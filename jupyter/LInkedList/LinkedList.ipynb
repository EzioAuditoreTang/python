{
 "cells": [
  {
   "cell_type": "markdown",
   "metadata": {},
   "source": [
    "\"\"\"\n",
    "### Python链表的实现\n",
    "\n",
    "单链表的实现\n",
    "python实现链表依赖于类生成的实例，每个节点都是一个对象，组合在一起形成一个完整链表\n",
    "对于node类只需关注两点：data 和 pnext\n",
    "对于linked_list需要关心的：head,默认是node; length,列表的长度\n",
    "链表的一些常用操作：\n",
    "create_linked_list: __init__()，创建链表\n",
    "is_empty():判断该链表是否为空\n",
    "append(value):在链表末添加node/值\n",
    "insert(value, index):插入\n",
    "delete(index):删除\n",
    "update(value, index):更新\n",
    "get_value(index):查找\n",
    "get_length():获取链表长度\n",
    "clear():清空链表\n",
    "print_linked_list():打印整个链表\n",
    "\"\"\"\n",
    "class Node:\n",
    "    def __init__(self, data):\n",
    "        \"\"\"\n",
    "        node的初始化:param \n",
    "        data: 节点的数据\n",
    "        \"\"\"\n",
    "        self.data = data\n",
    "        self.pnext = None\n",
    "\n",
    "    def __repr__(self):\n",
    "        return str(self.data)\n",
    "if __name__ == '__main__':\n",
    "    node1 = Node(data=111)\n",
    "    node2 = Node(data=222)\n",
    "    node1.pnext = node2\n",
    "    print(node1.pnext.data)"
   ]
  },
  {
   "cell_type": "code",
   "execution_count": 50,
   "metadata": {},
   "outputs": [
    {
     "ename": "IndentationError",
     "evalue": "unindent does not match any outer indentation level (<tokenize>, line 5)",
     "output_type": "error",
     "traceback": [
      "\u001b[1;36m  File \u001b[1;32m\"<tokenize>\"\u001b[1;36m, line \u001b[1;32m5\u001b[0m\n\u001b[1;33m    def __init__(self):\u001b[0m\n\u001b[1;37m    ^\u001b[0m\n\u001b[1;31mIndentationError\u001b[0m\u001b[1;31m:\u001b[0m unindent does not match any outer indentation level\n"
     ]
    }
   ],
   "source": [
    "class LinkedList:\n",
    "        \"\"\"\n",
    "        Linked list 的初始化\n",
    "        \"\"\"\n",
    "    def __init__(self):\n",
    "        \n",
    "        self.length = 0\n",
    "        self.head = None\n",
    "    def is_empty(self):\n",
    "        \"\"\"\n",
    "        判断该链表是否为空:\n",
    "        return: boolean\n",
    "        \"\"\"\n",
    "        return self.length == 0\n",
    "\n",
    "    def append(self, this_node):\n",
    "        \"\"\"\n",
    "        在链表末添加node/值,如果是node对象直接添加，否则先转换为node对象:param \n",
    "        this_node: 数据或者node对象:\n",
    "        return: None\n",
    "        \"\"\"\n",
    "        if isinstance(this_node, Node):\n",
    "            pass\n",
    "        else:this_node = Node(data=this_node)\n",
    "            if self.is_empty():\n",
    "                # 链表为空的情况将头指针指向当前node\n",
    "                self.head = this_node\n",
    "            else:\n",
    "                node = self.head\n",
    "            while node.pnext:\n",
    "                node = node.pnext\n",
    "                node.pnext = this_node\n",
    "                self.length += 1\n",
    "\n",
    "    def insert(self, value, index):\n",
    "        \"\"\"\n",
    "        链表的插入操作:param \n",
    "        value: 要插入的值:param \n",
    "        index: 位置:\n",
    "        return: None\n",
    "        \"\"\"\n",
    "        if type(index) is int:\n",
    "            if index > self.length:\n",
    "                # 索引值超出范围直接提示并且退出\n",
    "                print(\"Index value is out of range.\")\n",
    "                return\n",
    "            else:# 获得当前node对象和head\n",
    "                this_node = Node(data=value)\n",
    "                current_node = self.head\n",
    "        if index == 0:\n",
    "            # 索引值为0是将self.head = this_node\n",
    "            this_node.pnext = current_node\n",
    "            return\n",
    "        while index - 1:\n",
    "            current_node = current_node.pnext\n",
    "            index -= 1\n",
    "        # 这两条语句顺序很关键# 将当前节点与后一个节点拆开，this_node指向后一个节点，前一个节点指向this_node\n",
    "            this_node.pnext = current_node.pnext\n",
    "            current_node.pnext = this_node\n",
    "            self.length += 1\n",
    "            return\n",
    "        else:print(\"Index value is not int.\")\n",
    "            return\n",
    "\"\"\"\n",
    "    def delete(self, index):\"\"\"删除链表中某个位置的节点:param index: 位置索引:return: None\"\"\"if type(index) is int:if index > self.length:# 索引值超出范围直接提示并且退出print(\"Index is out of range.\")returnelse:if index == 0:self.head = self.head.pnextelse:current_node = self.headwhile index - 1:current_node = current_node.pnextindex -= 1current_node.pnext = current_node.pnext.pnextself.length -= 1returnelse:print(\"Index value is not int.\")return\n",
    "\n",
    "    def update(self, value, index):\"\"\"为链表中某个位置的节点修改值:param value: 要修改的值:param index: 位置索引:return: None\"\"\"if type(index) is int:if index > self.length:# 索引值超出范围直接提示并且退出print(\"Index is out of range.\")returnelse:this_node = Node(data=value)if index == 0:this_node.pnext = self.head.pnextself.head = this_nodeelse:current_node = self.headwhile index - 1:current_node = current_node.pnextindex -= 1this_node.pnext = current_node.pnext.pnextcurrent_node.pnext = this_nodereturnelse:print(\"Index value is not int.\")return\n",
    "\n",
    "    def get_value(self, index):\"\"\"获取链表中某个位置节点的值:param index: 位置索引:return: 该节点值, int or not\"\"\"if type(index) is int:if index > self.length:# 索引值超出范围直接提示并且退出print(\"Index is out of range.\")returnelse:if index == 0:return self.head.dataelse:current_node = self.headwhile index - 1:current_node = current_node.pnextindex -= 1return current_node.pnext.dataelse:print(\"Index value is not int.\")return\n",
    "\n",
    "    def get_length(self):\"\"\"获取链表长度:return: int\"\"\"current_node = self.headif current_node:i = 1while current_node.pnext:current_node = current_node.pnexti += 1return ielse:return 0\n",
    "\n",
    "    def clear(self):\"\"\"清空链表:return: None\"\"\"self.head = Noneself.length = 0print(\"Clear the linked list finished.\")\n",
    "\n",
    "    def print_linked_list(self):\"\"\"对整个链表的打印:return: None\"\"\"if self.is_empty():print(\"Linked list's length is 0\")else:node = self.headprint(\"Head -->\", node.data, end=' ')while node.pnext:node = node.pnextprint(\"-->\", node.data, end=' ')print(\"--> None. Linked node finished\")\n",
    "\n",
    "\"\"\"\n"
   ]
  },
  {
   "cell_type": "code",
   "execution_count": 49,
   "metadata": {},
   "outputs": [
    {
     "ename": "NameError",
     "evalue": "name 'LinkedList' is not defined",
     "output_type": "error",
     "traceback": [
      "\u001b[1;31m---------------------------------------------------------------------------\u001b[0m",
      "\u001b[1;31mNameError\u001b[0m                                 Traceback (most recent call last)",
      "\u001b[1;32m<ipython-input-49-63914c389cef>\u001b[0m in \u001b[0;36m<module>\u001b[1;34m()\u001b[0m\n\u001b[0;32m      2\u001b[0m     \u001b[0mnode1\u001b[0m \u001b[1;33m=\u001b[0m \u001b[0mNode\u001b[0m\u001b[1;33m(\u001b[0m\u001b[0mdata\u001b[0m\u001b[1;33m=\u001b[0m\u001b[1;34m'node1'\u001b[0m\u001b[1;33m)\u001b[0m\u001b[1;33m\u001b[0m\u001b[0m\n\u001b[0;32m      3\u001b[0m     \u001b[0mnode2\u001b[0m \u001b[1;33m=\u001b[0m \u001b[0mNode\u001b[0m\u001b[1;33m(\u001b[0m\u001b[0mdata\u001b[0m\u001b[1;33m=\u001b[0m\u001b[1;34m'node2'\u001b[0m\u001b[1;33m)\u001b[0m\u001b[1;33m\u001b[0m\u001b[0m\n\u001b[1;32m----> 4\u001b[1;33m     \u001b[0mlinked_list\u001b[0m \u001b[1;33m=\u001b[0m \u001b[0mLinkedList\u001b[0m\u001b[1;33m(\u001b[0m\u001b[1;33m)\u001b[0m\u001b[1;33m\u001b[0m\u001b[0m\n\u001b[0m\u001b[0;32m      5\u001b[0m     \u001b[0mlinked_list\u001b[0m\u001b[1;33m.\u001b[0m\u001b[0mappend\u001b[0m\u001b[1;33m(\u001b[0m\u001b[0mnode1\u001b[0m\u001b[1;33m)\u001b[0m\u001b[1;33m\u001b[0m\u001b[0m\n\u001b[0;32m      6\u001b[0m     \u001b[0mlinked_list\u001b[0m\u001b[1;33m.\u001b[0m\u001b[0mappend\u001b[0m\u001b[1;33m(\u001b[0m\u001b[0mnode2\u001b[0m\u001b[1;33m)\u001b[0m\u001b[1;33m\u001b[0m\u001b[0m\n",
      "\u001b[1;31mNameError\u001b[0m: name 'LinkedList' is not defined"
     ]
    }
   ],
   "source": [
    "if __name__ == '__main__':\n",
    "    node1 = Node(data='node1')\n",
    "    node2 = Node(data='node2')\n",
    "    linked_list = LinkedList()\n",
    "    linked_list.append(node1)\n",
    "    linked_list.append(node2)\n",
    "    linked_list.print_linked_list()\n",
    "    linked_list.insert(\"sdf\", 1)\n",
    "    linked_list.print_linked_list()\n",
    "    # linked_list.delete(0)\n",
    "    linked_list.update(value=\"update_test\", index=2)\n",
    "    linked_list.print_linked_list()\n",
    "    print(linked_list.get_value(index=2))\n",
    "    print(linked_list.get_length())"
   ]
  },
  {
   "cell_type": "code",
   "execution_count": null,
   "metadata": {},
   "outputs": [],
   "source": []
  },
  {
   "cell_type": "code",
   "execution_count": null,
   "metadata": {},
   "outputs": [],
   "source": []
  },
  {
   "cell_type": "code",
   "execution_count": null,
   "metadata": {},
   "outputs": [],
   "source": []
  },
  {
   "cell_type": "code",
   "execution_count": null,
   "metadata": {},
   "outputs": [],
   "source": []
  },
  {
   "cell_type": "code",
   "execution_count": null,
   "metadata": {},
   "outputs": [],
   "source": []
  }
 ],
 "metadata": {
  "kernelspec": {
   "display_name": "Python 3",
   "language": "python",
   "name": "python3"
  },
  "language_info": {
   "codemirror_mode": {
    "name": "ipython",
    "version": 3
   },
   "file_extension": ".py",
   "mimetype": "text/x-python",
   "name": "python",
   "nbconvert_exporter": "python",
   "pygments_lexer": "ipython3",
   "version": "3.5.3"
  }
 },
 "nbformat": 4,
 "nbformat_minor": 2
}
