{
 "cells": [
  {
   "cell_type": "markdown",
   "metadata": {},
   "source": [
    "## ## 队列：\n",
    "##### 列表实现队列，put,pop,isEmpty,isFull,/__str/__"
   ]
  },
  {
   "cell_type": "code",
   "execution_count": 3,
   "metadata": {},
   "outputs": [],
   "source": [
    "class Queue(object):\n",
    "    def __init__(self, max_size=float('inf')):\n",
    "        self._max_size = max_size\n",
    "        self._top = 0\n",
    "        self._tail = 0\n",
    "        self._queue = []\n",
    "\n",
    "    def put(self, value):\n",
    "        if self.isFull():\n",
    "            raise ValueError(\"the queue is full\")\n",
    "        self._queue.insert(self._tail, value)\n",
    "        self._tail += 1\n",
    "\n",
    "    def pop(self):\n",
    "        if self.isEmpty():\n",
    "            raise ValueError(\"the queue is empty\")\n",
    "        data = self._queue.pop(self._top)\n",
    "        self._top += 1\n",
    "        return data\n",
    "\n",
    "    def isEmpty(self):\n",
    "        if self._top == self._tail:\n",
    "            return True\n",
    "        else:\n",
    "            return False\n",
    "\n",
    "    def isFull(self):\n",
    "        if self._tail == self._max_size:\n",
    "            return True\n",
    "        else:\n",
    "            return False\n",
    "\n",
    "    def __str__(self):\n",
    "        return \"Queue(%s)\"%self._queue"
   ]
  },
  {
   "cell_type": "code",
   "execution_count": 7,
   "metadata": {},
   "outputs": [
    {
     "name": "stdout",
     "output_type": "stream",
     "text": [
      "Queue([11, 12, 13])\n",
      "11\n",
      "Queue([12, 13])\n",
      "Queue([12, 13, 14])\n"
     ]
    }
   ],
   "source": [
    "queue = Queue()\n",
    "queue.put(11)\n",
    "queue.put(12)\n",
    "queue.put(13)\n",
    "print(queue.__str__())\n",
    "print(queue.pop())\n",
    "print(queue.__str__())\n",
    "queue.put(14)\n",
    "print(queue.__str__())\n"
   ]
  }
 ],
 "metadata": {
  "kernelspec": {
   "display_name": "Python 3",
   "language": "python",
   "name": "python3"
  },
  "language_info": {
   "codemirror_mode": {
    "name": "ipython",
    "version": 3
   },
   "file_extension": ".py",
   "mimetype": "text/x-python",
   "name": "python",
   "nbconvert_exporter": "python",
   "pygments_lexer": "ipython3",
   "version": "3.5.2"
  }
 },
 "nbformat": 4,
 "nbformat_minor": 2
}
