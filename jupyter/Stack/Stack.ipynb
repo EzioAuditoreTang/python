{
 "cells": [
  {
   "cell_type": "markdown",
   "metadata": {},
   "source": [
    "栈：\n",
    "列表实现栈，pop，push，isEmpty，top"
   ]
  },
  {
   "cell_type": "code",
   "execution_count": 83,
   "metadata": {},
   "outputs": [],
   "source": [
    "class Stack(object):\n",
    "    def __init__(self):\n",
    "        self._top = 0\n",
    "        self._stack = []\n",
    "\n",
    "    def push(self, data):\n",
    "        self._stack.insert(self._top, data)\n",
    "        self._top += 1\n",
    "\n",
    "    def pop(self):\n",
    "        if self.isEmpty():\n",
    "            raise ValueError('stack 为空')\n",
    "        self._top -= 1\n",
    "        return self._stack.pop()\n",
    "    \n",
    "    def top(self):\n",
    "        if self.isEmpty():\n",
    "            raise ValueError('stack为空')\n",
    "        else:\n",
    "            return self._stack[self._top - 1]\n",
    "\n",
    "    def isEmpty(self):\n",
    "        if self._top == 0:\n",
    "            return True\n",
    "        else:\n",
    "            return False\n",
    "\n",
    "    def __str__(self):\n",
    "        return \"Stack(%s)\"%self._stack\n"
   ]
  },
  {
   "cell_type": "code",
   "execution_count": 86,
   "metadata": {},
   "outputs": [
    {
     "name": "stdout",
     "output_type": "stream",
     "text": [
      "Stack([12, 13, 14])\n",
      "14\n",
      "Stack([12, 13])\n"
     ]
    }
   ],
   "source": [
    "if __name__ == '__main__':\n",
    "    stack = Stack()\n",
    "    stack.push(12)\n",
    "    stack.push(13)\n",
    "    stack.push(14)\n",
    "    print(stack.__str__())\n",
    "    print(stack.pop())\n",
    "    print(stack.__str__())\n",
    "    "
   ]
  },
  {
   "cell_type": "code",
   "execution_count": null,
   "metadata": {},
   "outputs": [],
   "source": []
  }
 ],
 "metadata": {
  "kernelspec": {
   "display_name": "Python 3",
   "language": "python",
   "name": "python3"
  },
  "language_info": {
   "codemirror_mode": {
    "name": "ipython",
    "version": 3
   },
   "file_extension": ".py",
   "mimetype": "text/x-python",
   "name": "python",
   "nbconvert_exporter": "python",
   "pygments_lexer": "ipython3",
   "version": "3.5.3"
  }
 },
 "nbformat": 4,
 "nbformat_minor": 2
}
