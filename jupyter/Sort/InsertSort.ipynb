{
 "cells": [
  {
   "cell_type": "code",
   "execution_count": 1,
   "metadata": {},
   "outputs": [
    {
     "name": "stdout",
     "output_type": "stream",
     "text": [
      "[1, 3, 4, 5, 6, 9]\n"
     ]
    }
   ],
   "source": [
    "# 插入排序\n",
    "def insertSort(aList):\n",
    "    for i in range(1,len(aList)):\n",
    "        temp = aList[i]\n",
    "        j = i - 1\n",
    "        while temp < aList[j] and j >= 0:\n",
    "            aList[j + 1] = aList[j]\n",
    "            j -= 1\n",
    "        aList[j + 1] = temp\n",
    "    return aList\n",
    "\n",
    "\n",
    "# 主函数，程序入口\n",
    "if __name__ == '__main__':\n",
    "    aList = [5,6,4,3,1,9]\n",
    "#   测试\n",
    "    print(insertSort(aList))"
   ]
  }
 ],
 "metadata": {
  "kernelspec": {
   "display_name": "Python 3",
   "language": "python",
   "name": "python3"
  },
  "language_info": {
   "codemirror_mode": {
    "name": "ipython",
    "version": 3
   },
   "file_extension": ".py",
   "mimetype": "text/x-python",
   "name": "python",
   "nbconvert_exporter": "python",
   "pygments_lexer": "ipython3",
   "version": "3.5.3"
  }
 },
 "nbformat": 4,
 "nbformat_minor": 2
}
