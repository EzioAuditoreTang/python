{
 "cells": [
  {
   "cell_type": "code",
   "execution_count": 8,
   "metadata": {},
   "outputs": [
    {
     "name": "stdout",
     "output_type": "stream",
     "text": [
      "[]\n",
      "[1, 3, 3, 3, 4, 6, 8]\n"
     ]
    }
   ],
   "source": [
    "#自定义测试类\n",
    "class Main:\n",
    "    def __init__(self,s):\n",
    "        self.s = s\n",
    "    #冒泡排序算法\n",
    "    def bubbleSort(self,arr):\n",
    "        for i in range(1,len(arr)):\n",
    "            for j in range(0,len(arr)-i):\n",
    "                if arr[j] > arr[j+1]:\n",
    "                    arr[j],arr[j+1]=arr[j+1],arr[j]\n",
    "        return arr\n",
    "#定义main方法\n",
    "if __name__=='__main__':\n",
    "    ll=[]\n",
    "    list=[3,6,4,3,8,3,1]\n",
    "    #创建类对象\n",
    "    obj = Main(ll)\n",
    "    #对象属性\n",
    "    print(obj.s)\n",
    "    print(obj.bubbleSort(list))\n",
    "        \n"
   ]
  },
  {
   "cell_type": "code",
   "execution_count": null,
   "metadata": {},
   "outputs": [],
   "source": []
  }
 ],
 "metadata": {
  "kernelspec": {
   "display_name": "Python 3",
   "language": "python",
   "name": "python3"
  },
  "language_info": {
   "codemirror_mode": {
    "name": "ipython",
    "version": 3
   },
   "file_extension": ".py",
   "mimetype": "text/x-python",
   "name": "python",
   "nbconvert_exporter": "python",
   "pygments_lexer": "ipython3",
   "version": "3.5.3"
  }
 },
 "nbformat": 4,
 "nbformat_minor": 2
}
