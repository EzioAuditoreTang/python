{
 "cells": [
  {
   "cell_type": "code",
   "execution_count": 24,
   "metadata": {
    "scrolled": true
   },
   "outputs": [
    {
     "name": "stdout",
     "output_type": "stream",
     "text": [
      "[1, 3, 4, 5, 6, 9]\n"
     ]
    }
   ],
   "source": [
    "# 选择排序，从前往后，在i指针以后的元素中选择最小的那个元素，与i指针处的元素交换\n",
    "# 时间复杂度为O（n^2）,空间复杂度为O(1)\n",
    "def selectSort(aList):\n",
    "    for i in range(0,len(aList)):\n",
    "        min = i\n",
    "        for j in range(i+1,len(aList)):\n",
    "            if aList[min] > aList[j]:\n",
    "                min = j\n",
    "        aList[i],aList[min]=aList[min],aList[i]\n",
    "    return aList\n",
    "\n",
    "# 主函数，程序入口\n",
    "if __name__ == '__main__':\n",
    "    aList = [5,6,4,3,1,9]\n",
    "#   测试\n",
    "    print(selectSort(aList))"
   ]
  }
 ],
 "metadata": {
  "kernelspec": {
   "display_name": "Python 3",
   "language": "python",
   "name": "python3"
  },
  "language_info": {
   "codemirror_mode": {
    "name": "ipython",
    "version": 3
   },
   "file_extension": ".py",
   "mimetype": "text/x-python",
   "name": "python",
   "nbconvert_exporter": "python",
   "pygments_lexer": "ipython3",
   "version": "3.5.3"
  }
 },
 "nbformat": 4,
 "nbformat_minor": 2
}
