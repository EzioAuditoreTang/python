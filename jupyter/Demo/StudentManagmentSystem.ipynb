{
 "cells": [
  {
   "cell_type": "markdown",
   "metadata": {},
   "source": [
    "简单的学生信息管理系统\n",
    "学生姓名，语文、数学、英语三门成绩的管理。"
   ]
  },
  {
   "cell_type": "code",
   "execution_count": null,
   "metadata": {},
   "outputs": [
    {
     "name": "stdout",
     "output_type": "stream",
     "text": [
      "Class 101班级成绩管理系统\n",
      "-------------------------\n",
      "1.输入学生姓名\n",
      "2.输入语文成绩\n",
      "3.输入英语成绩\n",
      "4.输入数字成绩\n",
      "5.显示成绩单\n",
      "0.结束程序\n",
      "-------------------------\n"
     ]
    }
   ],
   "source": [
    "import os # 使用字典数据类型存放数据\n",
    "\n",
    "class_101 = dict()   #记录学生座号及姓名\n",
    "chi_score = dict()   #记录语文成绩\n",
    "eng_score = dict()   #记录英语成绩\n",
    "mat_score = dict()   #记录数学成绩\n",
    "subjects = [\"语文\",\"数学\",\"英语\"]\n",
    "scores = [chi_score,eng_score,mat_score] \n",
    "\n",
    "def disp_menu():\n",
    "    os.system(\"clear\")\n",
    "    print(\"Class 101班级成绩管理系统\")\n",
    "    print(\"-------------------------\")\n",
    "    print(\"1.输入学生姓名\")\n",
    "    print(\"2.输入语文成绩\")\n",
    "    print(\"3.输入英语成绩\")\n",
    "    print(\"4.输入数字成绩\")\n",
    "    print(\"5.显示成绩单\")\n",
    "    print(\"0.结束程序\")\n",
    "    print(\"-------------------------\")\n",
    "    \n",
    "def enter_std_data():\n",
    "    while True:\n",
    "        no = int(input(\"座号（0==>停止输入）：\"))\n",
    "        if no <= 0 or no > 100:\n",
    "            break\n",
    "        name = input(\"姓名:\")\n",
    "        class_101[no] = name\n",
    "        print(class_101)\n",
    "\n",
    "def enter_score(subject_no):\n",
    "        for no,name in class_101.items():\n",
    "            scores[subject_no][no] = int(input(\"{},{}的{}成绩：\".format(no,name,subjects[subject_no])))\n",
    "        print(scores[subject_no])\n",
    "        x = input(\"按Enter返回主菜单\")\n",
    "\n",
    "def disp_score_table():\n",
    "    for no in class_101.keys():\n",
    "        print(\"{:<5}\".format(class_101[no]),end=\"\")\n",
    "        sum = 0\n",
    "        for subject_no in range(0,3):\n",
    "            sum = sum + scores[subject_no][no]\n",
    "            print(\"{}:{:>3}\".format(subjects[subject_no],scores[subject_no][no]),end=\"\")\n",
    "        print(\"总分:{:>3},平均：{:.2f}\".format(sum,float(sum)/len(scores)))\n",
    "    x = input(\"按Enter返回主菜单\")\n",
    "\n",
    "##主程序\n",
    "if __name__ == '__main__':\n",
    "    while True:\n",
    "        disp_menu()\n",
    "        user_choice = int(input(\"请输入你的选择：\"))\n",
    "        if user_choice == 1:\n",
    "            enter_std_data()\n",
    "        elif user_choice >= 2 and user_choice <= 4:\n",
    "            enter_score(user_choice - 2)\n",
    "        elif user_choice == 5:\n",
    "            disp_score_table()\n",
    "        else:\n",
    "            break\n",
    "    print(\"谢谢使用，再见！\")\n",
    "    \n",
    "    "
   ]
  },
  {
   "cell_type": "code",
   "execution_count": null,
   "metadata": {},
   "outputs": [],
   "source": []
  }
 ],
 "metadata": {
  "kernelspec": {
   "display_name": "Python 3",
   "language": "python",
   "name": "python3"
  },
  "language_info": {
   "codemirror_mode": {
    "name": "ipython",
    "version": 3
   },
   "file_extension": ".py",
   "mimetype": "text/x-python",
   "name": "python",
   "nbconvert_exporter": "python",
   "pygments_lexer": "ipython3",
   "version": "3.5.3"
  }
 },
 "nbformat": 4,
 "nbformat_minor": 2
}
