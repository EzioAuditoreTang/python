{
 "cells": [
  {
   "cell_type": "markdown",
   "metadata": {},
   "source": [
    "文件与目录的操作"
   ]
  },
  {
   "cell_type": "code",
   "execution_count": 66,
   "metadata": {},
   "outputs": [
    {
     "name": "stdout",
     "output_type": "stream",
     "text": [
      "F:\\GitHub\\python\\jupyter\\Demo\\Demo01.ipynb\n",
      "Demo01.ipynb\n",
      "F:\\GitHub\\python\\jupyter\\Demo\n",
      "True\n",
      "755\n"
     ]
    }
   ],
   "source": [
    "import os.path\n",
    "\n",
    "a = os.path.abspath(\"Demo01.ipynb\")  #返回文件的绝对路径\n",
    "print(a)\n",
    "print(os.path.basename(a)) #返回路径的最后一个文件名或目录名称\n",
    "print(os.path.dirname(a))  #返回指定路径名称的上层完整路径名称t\n",
    "print(os.path.isfile(a))   #判断是否为文件\n",
    "print(os.path.getsize(a))  #返回文件的大小"
   ]
  },
  {
   "cell_type": "code",
   "execution_count": 78,
   "metadata": {},
   "outputs": [
    {
     "name": "stdout",
     "output_type": "stream",
     "text": [
      "<class 'list'>\n",
      "F:\\GitHub\\python\\jupyter\\Demo\\Demo01.ipynb\n",
      "F:\\GitHub\\python\\jupyter\\Demo\\Demo02.ipynb\n",
      "F:\\GitHub\\python\\jupyter\\Demo\\Demo03.ipynb\n",
      "F:\\GitHub\\python\\jupyter\\Demo\\Demo04.ipynb\n",
      "F:\\GitHub\\python\\jupyter\\Demo\\Demo05.ipynb\n",
      "F:\\GitHub\\python\\jupyter\\Demo\\Demo06.ipynb\n",
      "F:\\GitHub\\python\\jupyter\\Demo\\FileDemoTest.ipynb\n",
      "F:\\GitHub\\python\\jupyter\\Demo\\InputDemoTest.ipynb\n",
      "F:\\GitHub\\python\\jupyter\\Demo\\StudentManagmentSystem.ipynb\n"
     ]
    }
   ],
   "source": [
    "import glob\n",
    "\n",
    "if __name__ == '__main__':\n",
    "    #利用glob外部模块，使用通配符获取文件\n",
    "    files = glob.glob(\"*.ipynb\")\n",
    "    print(type(files))\n",
    "    #获取符合条件的文件的绝对路径\n",
    "    for file in files:\n",
    "        print(os.path.abspath(file))"
   ]
  }
 ],
 "metadata": {
  "kernelspec": {
   "display_name": "Python 3",
   "language": "python",
   "name": "python3"
  },
  "language_info": {
   "codemirror_mode": {
    "name": "ipython",
    "version": 3
   },
   "file_extension": ".py",
   "mimetype": "text/x-python",
   "name": "python",
   "nbconvert_exporter": "python",
   "pygments_lexer": "ipython3",
   "version": "3.5.3"
  }
 },
 "nbformat": 4,
 "nbformat_minor": 2
}
