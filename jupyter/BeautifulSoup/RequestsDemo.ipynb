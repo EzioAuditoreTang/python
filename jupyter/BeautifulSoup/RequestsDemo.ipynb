{
 "cells": [
  {
   "cell_type": "markdown",
   "metadata": {},
   "source": [
    "提取网页内容"
   ]
  },
  {
   "cell_type": "code",
   "execution_count": 2,
   "metadata": {},
   "outputs": [
    {
     "name": "stdout",
     "output_type": "stream",
     "text": [
      "\n",
      "<!DOCTYPE html PUBLIC \"-//W3C//DTD XHTML 1.0 Transitional//EN\" \"http://www.w3.org/TR/xhtml1/DTD/xhtml1-transitional.dtd\">\n",
      "<html xmlns=\"http://www.w3.org/1999/xhtml\">\n",
      "<head>\n",
      "<script type=\"text/javascript\">\n",
      "        if (window.location.toString().indexOf(\"shtml?\") > 0) {\n",
      "            self.location = window.location.toString().replace(window.location.search.toString(), \"\");\n",
      "        }\n",
      "        function doccheckart(json) {\n",
      "            if (json[0].result == \"1\") {\n",
      "                self.location = \"http://www.360doc.com/noarticle.aspx\";\n",
      "            }\n",
      "        }\n",
      "    </script>\n",
      "<script src=\"/js/jquery1.js\" type=\"text/javascript\" charset=\"utf-8\"></script>\n"
     ]
    }
   ],
   "source": [
    "import requests\n",
    "\n",
    "url = \"http://www.360doc.com/content/14/0723/14/8790037_396505347.shtml\"\n",
    "# 使用requests.get(url)提取此网页的内容\n",
    "# text.splitlines() 将文本按行分割为列表\n",
    "html = requests.get(url).text.splitlines()\n",
    "# 遍历列表\n",
    "for i in range(0,15):\n",
    "    print(html[i])\n",
    "    \n",
    "    "
   ]
  },
  {
   "cell_type": "code",
   "execution_count": 2,
   "metadata": {},
   "outputs": [
    {
     "name": "stdout",
     "output_type": "stream",
     "text": [
      "<!DOCTYPE html PUBLIC \"-//W3C//DTD XHTML 1.0 Transitional//EN\" \"http://www.w3.org/TR/xhtml1/DTD/xhtml1-transitional.dtd\">\n",
      "<html xmlns=\"http://www.w3.org/1999/xhtml\">\n",
      "    <head>\n",
      "\n",
      "        <meta name=\"keywords\" content=\"私塾在线,java视频,java教程,java学习视频,android视频,maven视频,hadoop视频,hibernate,spring,struts2,设计模式,\"/>\n",
      "        <meta name=\"description\" content=\"java学习教程,java学习视频,java框架技术,深入浅出struts,hibernate,spring,企业架构,设计模式,数据库技术,oracle,mysql,jquery学习视频,,.net学习视频,移动编程,android,\"/>\n",
      "\n",
      "        <title>跟我学spring3笔记 - zhang的笔记 - 记笔记 - 私塾在线 - 只做精品视频课程服务</title>\n",
      "        <meta http-equiv=\"Content-Type\" content=\"text/html; charset=UTF-8\" />\n",
      "     \n"
     ]
    }
   ],
   "source": [
    "import requests\n",
    "\n",
    "url = \"http://sishuok.com/forum/blogCategory/showByCategory.html?categories_id=49&user_id=2\"\n",
    "html = requests.get(url).text.splitlines()\n",
    "for i in range(0,10):\n",
    "    print(html[i])"
   ]
  }
 ],
 "metadata": {
  "kernelspec": {
   "display_name": "Python 3",
   "language": "python",
   "name": "python3"
  }
 },
 "nbformat": 4,
 "nbformat_minor": 2
}
