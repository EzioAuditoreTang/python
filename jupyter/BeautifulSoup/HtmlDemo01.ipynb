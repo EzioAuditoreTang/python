{
 "cells": [
  {
   "cell_type": "markdown",
   "metadata": {},
   "source": [
    "BeautifulSoup使用"
   ]
  },
  {
   "cell_type": "code",
   "execution_count": 19,
   "metadata": {},
   "outputs": [
    {
     "name": "stdout",
     "output_type": "stream",
     "text": [
      "<title>ç¾åº¦ä¸ä¸ï¼ä½ å°±ç¥é</title>\n",
      "\n",
      " ç¾åº¦ä¸ä¸ï¼ä½ å°±ç¥é                     æ°é» hao123 å°å¾ è§é¢ è´´å§  ç»å½  document.write('<a href=\"http://www.baidu.com/bdorz/login.gif?login&tpl=mn&u='+ encodeURIComponent(window.location.href+ (window.location.search === \"\" ? \"?\" : \"&\")+ \"bdorz_come=1\")+ '\" name=\"tj_login\" class=\"lb\">ç»å½</a>'); æ´å¤äº§å       å",
      "³äºç¾åº¦ About Baidu  ©2017 Baidu ä½¿ç¨ç¾åº¦åå¿",
      "è¯»  æè§åé¦ äº¬ICPè¯030173å·        \n",
      "\n",
      "[]\n",
      "None\n",
      "<a class=\"mnav\" href=\"http://www.hao123.com\" name=\"tj_trhao123\">hao123</a>\n",
      "['hao123']\n",
      "http://www.hao123.com\n",
      "<a class=\"mnav\" href=\"http://map.baidu.com\" name=\"tj_trmap\">å°å¾</a>\n",
      "['å\\x9c°å\\x9b¾']\n",
      "http://map.baidu.com\n",
      "<a class=\"mnav\" href=\"http://v.baidu.com\" name=\"tj_trvideo\">è§é¢</a>\n",
      "['è§\\x86é¢\\x91']\n",
      "http://v.baidu.com\n",
      "<a class=\"mnav\" href=\"http://tieba.baidu.com\" name=\"tj_trtieba\">è´´å§</a>\n",
      "['è´´å\\x90§']\n",
      "http://tieba.baidu.com\n",
      "<a class=\"lb\" href=\"http://www.baidu.com/bdorz/login.gif?login&amp;tpl=mn&amp;u=http%3A%2F%2Fwww.baidu.com%2f%3fbdorz_come%3d1\" name=\"tj_login\">ç»å½</a>\n",
      "['ç\\x99»å½\\x95']\n",
      "http://www.baidu.com/bdorz/login.gif?login&tpl=mn&u=http%3A%2F%2Fwww.baidu.com%2f%3fbdorz_come%3d1\n",
      "<a class=\"bri\" href=\"//www.baidu.com/more/\" name=\"tj_briicon\" style=\"display: block;\">æ´å¤äº§å</a>\n",
      "['æ\\x9b´å¤\\x9aäº§å\\x93\\x81']\n",
      "//www.baidu.com/more/\n",
      "<a href=\"http://home.baidu.com\">å",
      "³äºç¾åº¦</a>\n",
      "['å\\x85³äº\\x8eç\\x99¾åº¦']\n",
      "http://home.baidu.com\n",
      "<a href=\"http://ir.baidu.com\">About Baidu</a>\n",
      "['About Baidu']\n",
      "http://ir.baidu.com\n",
      "<a href=\"http://www.baidu.com/duty/\">ä½¿ç¨ç¾åº¦åå¿",
      "è¯»</a>\n",
      "['ä½¿ç\\x94¨ç\\x99¾åº¦å\\x89\\x8då¿\\x85è¯»']\n",
      "http://www.baidu.com/duty/\n"
     ]
    }
   ],
   "source": [
    "from bs4 import BeautifulSoup\n",
    "import requests\n",
    "\n",
    "url = \"http://www.baidu.com\"\n",
    "html = requests.get(url).text\n",
    "# 使用BeautifulSoup(html,\"html.parser\")将html解析后的数据存入sp\n",
    "sp = BeautifulSoup(html,\"html.parser\")\n",
    "\n",
    "# 输出该网页的标题\n",
    "print(sp.title)\n",
    "# 除去所有的HTML标签，把网页变成字符串返回\n",
    "print(sp.text)\n",
    "# 返回以CSS选择器作为运算结果的所有内容，主要操作对象为id和class\n",
    "print(sp.select(\"#f60\"))\n",
    "\n",
    "#返回第一个符合条件的内容\n",
    "print(sp.find('button'))\n",
    "\n",
    "# 提取网页中的链接标签\n",
    "links = sp.find_all('a')\n",
    "for i in range(1,10):\n",
    "#     输出所有链接标签\n",
    "    print(links[i])\n",
    "#     输出该链接标签内容\n",
    "    print(links[i].contents)\n",
    "#     输出该链接标签href属性值\n",
    "    print(links[i].get('href'))\n",
    "    \n"
   ]
  },
  {
   "cell_type": "code",
   "execution_count": null,
   "metadata": {},
   "outputs": [],
   "source": []
  }
 ],
 "metadata": {
  "kernelspec": {
   "display_name": "Python 3",
   "language": "python",
   "name": "python3"
  },
  "language_info": {
   "codemirror_mode": {
    "name": "ipython",
    "version": 3
   },
   "file_extension": ".py",
   "mimetype": "text/x-python",
   "name": "python",
   "nbconvert_exporter": "python",
   "pygments_lexer": "ipython3",
   "version": "3.5.3"
  }
 },
 "nbformat": 4,
 "nbformat_minor": 2
}
