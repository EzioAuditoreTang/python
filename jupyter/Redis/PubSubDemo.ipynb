{
 "cells": [
  {
   "cell_type": "markdown",
   "metadata": {},
   "source": []
  },
  {
   "cell_type": "code",
   "execution_count": 1,
   "metadata": {},
   "outputs": [
    {
     "name": "stdout",
     "output_type": "stream",
     "text": [
      "{'pattern': None, 'channel': b'channel', 'data': 1, 'type': 'subscribe'}\n",
      "{'pattern': None, 'channel': b'channel', 'data': b'1', 'type': 'message'}\n",
      "{'pattern': None, 'channel': b'channel', 'data': b'2', 'type': 'message'}\n",
      "{'pattern': None, 'channel': b'channel', 'data': b'3', 'type': 'message'}\n",
      "{'pattern': None, 'channel': b'channel', 'data': 0, 'type': 'unsubscribe'}\n"
     ]
    }
   ],
   "source": [
    "import redis,threading,time\n",
    "\n",
    "conn = redis.Redis(host='localhost',port=6379,db=0)\n",
    "\n",
    "def publisher(n):\n",
    "    #发布消息后进行短暂的休眠，让消息可以一条一条的出现\n",
    "    time.sleep(1)\n",
    "    for i in range(1,n):\n",
    "        conn.publish('channel',i)\n",
    "        time.sleep(1)\n",
    "        \n",
    "def run_pubsub():\n",
    "    #创建发布与订阅对象，并让它订阅给定的频道\n",
    "    threading.Thread(target=publisher,args=(5,)).start()\n",
    "    pubsub = conn.pubsub()\n",
    "    pubsub.subscribe(['channel'])\n",
    "    count = 0\n",
    "    for item in pubsub.listen():\n",
    "        print(item)\n",
    "        count += 1\n",
    "        if count == 4:\n",
    "            #客户端接受到退订反馈消息后不再接受消息\n",
    "            pubsub.unsubscribe()\n",
    "        if count == 5:\n",
    "            break\n",
    "if __name__ == '__main__':\n",
    "    run_pubsub()"
   ]
  }
 ],
 "metadata": {
  "kernelspec": {
   "display_name": "Python 3",
   "language": "python",
   "name": "python3"
  },
  "language_info": {
   "codemirror_mode": {
    "name": "ipython",
    "version": 3
   },
   "file_extension": ".py",
   "mimetype": "text/x-python",
   "name": "python",
   "nbconvert_exporter": "python",
   "pygments_lexer": "ipython3",
   "version": "3.5.3"
  }
 },
 "nbformat": 4,
 "nbformat_minor": 2
}
