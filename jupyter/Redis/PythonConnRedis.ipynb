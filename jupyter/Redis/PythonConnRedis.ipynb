{
 "cells": [
  {
   "cell_type": "markdown",
   "metadata": {},
   "source": [
    "python连接redis"
   ]
  },
  {
   "cell_type": "code",
   "execution_count": 14,
   "metadata": {},
   "outputs": [
    {
     "data": {
      "text/plain": [
       "[b'guai',\n",
       " b'three',\n",
       " b'string',\n",
       " b'hash',\n",
       " b'set-key1',\n",
       " b'four',\n",
       " b'set-key',\n",
       " b'list1',\n",
       " b'list-key']"
      ]
     },
     "execution_count": 14,
     "metadata": {},
     "output_type": "execute_result"
    }
   ],
   "source": [
    "import redis\n",
    "\n",
    "r = redis.Redis(host='localhost',port=6379,db=0)\n",
    "r.set('guai','xinxin')\n",
    "r.get('guai')\n",
    "r.keys()"
   ]
  },
  {
   "cell_type": "code",
   "execution_count": 29,
   "metadata": {},
   "outputs": [
    {
     "name": "stdout",
     "output_type": "stream",
     "text": [
      "{b'set3', b'set1', b'set2'}\n",
      "True\n"
     ]
    }
   ],
   "source": [
    "print(r.smembers(\"set-key\"))\n",
    "print(r.sismember(\"set-key\",\"set1\"))"
   ]
  }
 ],
 "metadata": {
  "kernelspec": {
   "display_name": "Python 3",
   "language": "python",
   "name": "python3"
  },
  "language_info": {
   "codemirror_mode": {
    "name": "ipython",
    "version": 3
   },
   "file_extension": ".py",
   "mimetype": "text/x-python",
   "name": "python",
   "nbconvert_exporter": "python",
   "pygments_lexer": "ipython3",
   "version": "3.5.3"
  }
 },
 "nbformat": 4,
 "nbformat_minor": 2
}
