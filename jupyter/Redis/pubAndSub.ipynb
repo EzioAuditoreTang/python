{
 "cells": [
  {
   "cell_type": "markdown",
   "metadata": {},
   "source": [
    "发布与订阅"
   ]
  },
  {
   "cell_type": "code",
   "execution_count": null,
   "metadata": {},
   "outputs": [],
   "source": [
    "import redis\n",
    "import threading\n",
    "\n",
    "conn = redis.Redis(host='localhost',port=6379,db=0)\n",
    "def publisher(n):\n",
    "    time.sleep(1)\n",
    "    for i in range(n):\n",
    "        conn.publish('channel',i)\n",
    "        time.sleep(1)\n",
    "    \n",
    "def run_pubsub():\n",
    "    threading.Thread(target=publisher,args=(3,)).start()\n",
    "    pubsub = conn.pubsub()\n",
    "    pubsub.subscribe(['channel'])\n",
    "    count = 0\n",
    "    for item in pubsub.listen():\n",
    "        print(item)\n",
    "        count += 1\n",
    "        if count == 4:\n",
    "            pubsub.unsubscribe()\n",
    "        if count == 5:\n",
    "            break\n",
    "    \n",
    "if __name__ == \"__main__\":\n",
    "    run_pubsub()"
   ]
  }
 ],
 "metadata": {
  "kernelspec": {
   "display_name": "Python 3",
   "language": "python",
   "name": "python3"
  },
  "language_info": {
   "codemirror_mode": {
    "name": "ipython",
    "version": 3
   },
   "file_extension": ".py",
   "mimetype": "text/x-python",
   "name": "python",
   "nbconvert_exporter": "python",
   "pygments_lexer": "ipython3",
   "version": "3.5.3"
  }
 },
 "nbformat": 4,
 "nbformat_minor": 2
}
